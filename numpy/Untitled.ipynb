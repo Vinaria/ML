{
 "cells": [
  {
   "cell_type": "code",
   "execution_count": 17,
   "id": "2c447ef8-a8ec-43f0-8253-9650c3a9ce39",
   "metadata": {
    "tags": []
   },
   "outputs": [
    {
     "data": {
      "text/plain": [
       "9"
      ]
     },
     "execution_count": 17,
     "metadata": {},
     "output_type": "execute_result"
    }
   ],
   "source": [
    "import numpy as np\n",
    "from typing import Tuple\n",
    "\n",
    "\n",
    "def sum_non_neg_diag(x):\n",
    "    \"\"\"\n",
    "    Вернуть  сумму неотрицательных элементов на диагонали прямоугольной матрицы X. \n",
    "    Если неотрицательных элементов на диагонали нет, то вернуть -1\n",
    "    \"\"\"\n",
    "    y = np.diag(x)[np.diag(x) >= 0]\n",
    "    return np.sum(y) if y.size > 0 else -1\n",
    "\n",
    "\n",
    "sum_non_neg_diag([[-1, 0, 1], [2, -1, 2], [3, 0, 9], [4, 4, 4]])"
   ]
  },
  {
   "cell_type": "code",
   "execution_count": 19,
   "id": "b46e301f-5850-44e9-ba3e-5e24198d14d7",
   "metadata": {
    "tags": []
   },
   "outputs": [
    {
     "name": "stdout",
     "output_type": "stream",
     "text": [
      "[1 2 4] [1 2 1]\n",
      "[1 2 4] [1 2 1]\n"
     ]
    },
    {
     "data": {
      "text/plain": [
       "True"
      ]
     },
     "execution_count": 19,
     "metadata": {},
     "output_type": "execute_result"
    }
   ],
   "source": [
    "\"\"\"\n",
    "Проверить, задают ли два вектора одно и то же мультимножество.\n",
    "\"\"\"\n",
    "def are_multisets_equal(x, y):\n",
    "    x_nums, x_counts = np.unique(x, return_counts = True)\n",
    "    y_nums, y_counts = np.unique(y, return_counts = True)\n",
    "    if (np.shape(x_nums) != np.shape(y_nums)): return False \n",
    "    if (np.any(x_counts != y_counts)): return False \n",
    "    if (np.any(x_nums != y_nums)): return False\n",
    "    return True\n",
    "\n",
    "are_multisets_equal(x = [1, 2, 2, 4], y = [4, 2, 1, 2])"
   ]
  },
  {
   "cell_type": "code",
   "execution_count": 39,
   "id": "a0a7613d-7b30-4802-bb73-bf0320791d47",
   "metadata": {
    "tags": []
   },
   "outputs": [
    {
     "data": {
      "text/plain": [
       "45"
      ]
     },
     "execution_count": 39,
     "metadata": {},
     "output_type": "execute_result"
    }
   ],
   "source": [
    "\"\"\"\n",
    "Вернуть максимальное прозведение соседних элементов в массиве x, \n",
    "таких что хотя бы один множитель в произведении делится на 3.\n",
    "Если таких произведений нет, то вернуть -1.\n",
    "\"\"\"\n",
    "def max_prod_mod_3(x):\n",
    "    y = np.array(x)\n",
    "    y = (y[1:] * y[:-1])\n",
    "    y = y[y % 3 == 0]\n",
    "    return y.max() if y.size > 0 else -1\n",
    "\n",
    "max_prod_mod_3([6, 2, 0, 3, 0, 0, 5, 9, 0])\n",
    "    "
   ]
  },
  {
   "cell_type": "code",
   "execution_count": 175,
   "id": "3e355bd1-ec0c-4ef0-891e-608c1a18d223",
   "metadata": {},
   "outputs": [
    {
     "name": "stdout",
     "output_type": "stream",
     "text": [
      "[[ 6 12 18]\n",
      " [24 30 36]\n",
      " [42 48 54]]\n"
     ]
    }
   ],
   "source": [
    "\"\"\"\n",
    "Сложить каналы изображения с указанными весами.\n",
    "\"\"\"\n",
    "def convert_image(image: np.ndarray, weights: np.ndarray) -> np.ndarray:\n",
    "    image = np.array(image)\n",
    "    weights = np.array(weights)\n",
    "    image = np.rot90(image, axes = (2, 0))\n",
    "    image = np.rot90(image, axes = (1, 2))\n",
    "    print(np.einsum('ijk, i -> ijk', image, weights).sum(axis = 0))\n",
    "    \n",
    "    \n",
    "convert_image(image = [[[1, 1, 1], [2, 2, 2], [3, 3, 3]], [[4, 4, 4], [5, 5, 5], [6, 6, 6]], [[7, 7, 7], [8, 8, 8], [9, 9, 9]]], weights= [1, 2, 3])"
   ]
  },
  {
   "cell_type": "code",
   "execution_count": 59,
   "id": "7a349d27-3802-4085-bc9b-a8fb4f01e3e7",
   "metadata": {
    "tags": []
   },
   "outputs": [
    {
     "data": {
      "text/plain": [
       "11"
      ]
     },
     "execution_count": 59,
     "metadata": {},
     "output_type": "execute_result"
    }
   ],
   "source": [
    "\"\"\"\n",
    "Найти скалярное произведение между векторами x и y, заданными в формате RLE.\n",
    "В случае несовпадения длин векторов вернуть -1.\n",
    "\"\"\"\n",
    "def rle_scalar(x: np.ndarray, y: np.ndarray) -> int:\n",
    "    x = np.array(x)\n",
    "    y = np.array(y)\n",
    "    lenx = x[:, 1].sum()\n",
    "    leny = y[:, 1].sum()\n",
    "    \n",
    "    if lenx != leny:\n",
    "        return -1\n",
    "    \n",
    "    new_x = np.repeat(x[:, 0], x[:, 1])\n",
    "    new_y = np.repeat(y[:, 0], y[:, 1])\n",
    "    \n",
    "    return np.dot(new_x, new_y)\n",
    "    \n",
    "    \n",
    "\n",
    "rle_scalar(x = [[11, 2], [22, 3], [3, 1]], y = [[1, 1], [0, 5]])"
   ]
  },
  {
   "cell_type": "code",
   "execution_count": null,
   "id": "0b6c644e-a76f-400d-92ed-6fe61f6668df",
   "metadata": {},
   "outputs": [],
   "source": [
    "np.full(i[1], i[0])\n",
    "np.append(nx, [i[0]] * i[1])"
   ]
  },
  {
   "cell_type": "code",
   "execution_count": 15,
   "id": "0c00f2db-1491-47cd-a22c-640762a4a461",
   "metadata": {
    "tags": []
   },
   "outputs": [
    {
     "data": {
      "text/plain": [
       "-1"
      ]
     },
     "execution_count": 15,
     "metadata": {},
     "output_type": "execute_result"
    }
   ],
   "source": [
    "from typing import List\n",
    "\"\"\"\n",
    "Вернуть  сумму неотрицательных элементов на диагонали прямоугольной матрицы X. \n",
    "Если неотрицательных элементов на диагонали нет, то вернуть -1\n",
    "\"\"\" \n",
    "def sum_non_neg_diag(x: List[List[int]]) -> int:\n",
    "    length = min(len(x), len(x[0]))\n",
    "    diag = [x[i][i] for i in range(length) if x[i][i] >= 0]\n",
    "    return sum(diag) if diag else -1\n",
    "\n",
    "sum_non_neg_diag([[-1, 0, 1, 4], [2, -3, 2, 4], [3, 0, -3, 4], [4, 4, -4, -4]])"
   ]
  },
  {
   "cell_type": "code",
   "execution_count": 29,
   "id": "6e19782b-511d-4e8c-a109-816b62aeb4ed",
   "metadata": {
    "tags": []
   },
   "outputs": [
    {
     "data": {
      "text/plain": [
       "False"
      ]
     },
     "execution_count": 29,
     "metadata": {},
     "output_type": "execute_result"
    }
   ],
   "source": [
    "def are_multisets_equal(x: List[int], y: List[int]) -> bool:\n",
    "    return sorted(x) == sorted(y)\n",
    "\n",
    "are_multisets_equal(x = [1, 2, 2, 2, 4], y = [4, 2, 1, 2])"
   ]
  },
  {
   "cell_type": "code",
   "execution_count": 42,
   "id": "77390c26-7e96-4bee-abcd-8ba80d3e87ec",
   "metadata": {
    "tags": []
   },
   "outputs": [
    {
     "data": {
      "text/plain": [
       "12"
      ]
     },
     "execution_count": 42,
     "metadata": {},
     "output_type": "execute_result"
    }
   ],
   "source": [
    "def max_prod_mod_3(x):\n",
    "    x1 = x[1:]\n",
    "    x2 = x[:-1]\n",
    "    prod = [x1[i] * x2[i] for i in range(0, len(x1)) if (x1[i] % 3 == 0) or (x2[i] % 3 == 0)]\n",
    "    return max(prod)\n",
    "\n",
    "max_prod_mod_3([6, 2, 0, 3, 0, 0, 5, 0, 10])"
   ]
  },
  {
   "cell_type": "code",
   "execution_count": 56,
   "id": "425a8642-f0e3-459d-bfbc-0f6e2308c69a",
   "metadata": {
    "tags": []
   },
   "outputs": [
    {
     "data": {
      "text/plain": [
       "[[6, 12, 18], [24, 30, 36], [42, 48, 54]]"
      ]
     },
     "execution_count": 56,
     "metadata": {},
     "output_type": "execute_result"
    }
   ],
   "source": [
    "def convert_image(image: List[List[List[float]]], weights: List[float]) -> List[List[float]]:\n",
    "    res = []\n",
    "    for matrix in image:\n",
    "        newrow = []\n",
    "        for row in matrix:\n",
    "            s = 0\n",
    "            for i in range(len(row)):\n",
    "                s += row[i] * weights[i]\n",
    "            newrow.append(s)\n",
    "        res.append(newrow)\n",
    "    return res\n",
    "        \n",
    "        \n",
    "        \n",
    "        \n",
    "        \n",
    "convert_image(image = [[[1, 1, 1], [2, 2, 2], [3, 3, 3]], [[4, 4, 4], [5, 5, 5], [6, 6, 6]], [[7, 7, 7], [8, 8, 8], [9, 9, 9]]], weights= [1, 2, 3])"
   ]
  },
  {
   "cell_type": "code",
   "execution_count": 93,
   "id": "0950b9d5-ef97-4132-b96a-37e9f72a54c2",
   "metadata": {
    "tags": []
   },
   "outputs": [
    {
     "name": "stdout",
     "output_type": "stream",
     "text": [
      "[[0 0 0]\n",
      " [1 0 0]]\n",
      "[0. 1.] [1. 1. 1.]\n",
      "[1. 1.] [1. 1. 1.]\n",
      "[[1 1 1]\n",
      " [1 0 0]]\n",
      "[[1. 1. 1.]\n",
      " [1. 1. 1.]]\n"
     ]
    },
    {
     "data": {
      "text/plain": [
       "array([[1., 1., 1.],\n",
       "       [1., 0., 0.]])"
      ]
     },
     "execution_count": 93,
     "metadata": {},
     "output_type": "execute_result"
    }
   ],
   "source": [
    "\"\"\"\n",
    "Вычислить матрицу косинусных расстояний между объектами X и Y.\n",
    "В случае равенства хотя бы одно из двух векторов 0, косинусное расстояние считать равным 1.\n",
    "\"\"\"\n",
    "def cosine_distance(X: np.ndarray, Y: np.ndarray) -> np.ndarray:\n",
    "    X = np.array(X)\n",
    "    Y = np.array(Y)\n",
    "    Z = np.dot(X, Y.T)\n",
    "    print(Z)\n",
    "    norm_X = np.linalg.norm(X, axis = 1)\n",
    "    norm_Y = np.linalg.norm(Y, axis = 1)\n",
    "    print(norm_X, norm_Y)\n",
    "    Z[norm_X == 0] = 1\n",
    "    Z[:, norm_Y == 0] = 1\n",
    "    norm_X[norm_X == 0] = 1\n",
    "    norm_Y[norm_Y == 0] = 1\n",
    "    print(norm_X, norm_Y)\n",
    "    print(Z)\n",
    "    \n",
    "    \n",
    "    \n",
    "    print(np.outer(norm_X, norm_Y))\n",
    "    return Z / (np.outer(norm_X, norm_Y))\n",
    "    \n",
    "    \n",
    "cosine_distance(X = [[0, 0, 0], [1, 0, 0]], Y = [[1, 0, 0], [0, 1, 0], [0, 0, 1]])"
   ]
  },
  {
   "cell_type": "code",
   "execution_count": 99,
   "id": "d842746a-b50a-4369-98d4-6354628c5ec3",
   "metadata": {
    "tags": []
   },
   "outputs": [
    {
     "data": {
      "text/plain": [
       "[[1, 1, 1], [1.0, 0.7071067811865475, 0.7071067811865475]]"
      ]
     },
     "execution_count": 99,
     "metadata": {},
     "output_type": "execute_result"
    }
   ],
   "source": [
    "\"\"\"\n",
    "Вычислить матрицу косинусных расстояний между объектами X и Y. \n",
    "В случае равенства хотя бы одно из двух векторов 0, косинусное расстояние считать равным 1.\n",
    "\"\"\"\n",
    "def cosine_distance(X: List[List[float]], Y: List[List[float]]) -> List[List[float]]:\n",
    "    res = []\n",
    "    \n",
    "    for i in range(len(X)):\n",
    "        new_row = []\n",
    "        for j in range(len(Y)):\n",
    "            dist, scalar, xnorm, ynorm = [0] * 4\n",
    "            for k in range(len(X[0])):\n",
    "                xnorm += X[i][k] ** 2\n",
    "                ynorm += Y[j][k] ** 2\n",
    "                scalar += X[i][k] * Y[j][k]\n",
    "            \n",
    "            if xnorm and ynorm:\n",
    "                dist = scalar / (xnorm * ynorm) ** (1/2)\n",
    "            else:\n",
    "                dist = 1\n",
    "            \n",
    "            new_row.append(dist)\n",
    "        res.append(new_row)\n",
    "    \n",
    "    return res\n",
    "cosine_distance(X = [[0, 0, 0], [1, 0, 0]], Y = [[1, 0, 0], [1, 1, 0], [1, 0, 1]])"
   ]
  },
  {
   "cell_type": "code",
   "execution_count": null,
   "id": "e63a6215-2972-4887-b7f2-ac2a3edca2dd",
   "metadata": {},
   "outputs": [],
   "source": []
  }
 ],
 "metadata": {
  "kernelspec": {
   "display_name": "Python 3 (ipykernel)",
   "language": "python",
   "name": "python3"
  },
  "language_info": {
   "codemirror_mode": {
    "name": "ipython",
    "version": 3
   },
   "file_extension": ".py",
   "mimetype": "text/x-python",
   "name": "python",
   "nbconvert_exporter": "python",
   "pygments_lexer": "ipython3",
   "version": "3.11.4"
  }
 },
 "nbformat": 4,
 "nbformat_minor": 5
}
